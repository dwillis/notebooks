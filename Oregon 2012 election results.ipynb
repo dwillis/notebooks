{
 "cells": [
  {
   "cell_type": "markdown",
   "metadata": {},
   "source": [
    "# Examining 2012 Oregon Election Results"
   ]
  },
  {
   "cell_type": "markdown",
   "metadata": {},
   "source": [
    "Using data from OpenElections' [Oregon repository](https://github.com/openelections/openelections-data-or), we'll look at some aggregates and patterns for specific offices and counties. First we'll save the [raw version of the 2012 county-level results file](https://raw.githubusercontent.com/openelections/openelections-data-or/master/2012/20121106__or__general.csv) locally and load it into Agate. "
   ]
  },
  {
   "cell_type": "code",
   "execution_count": 1,
   "metadata": {
    "collapsed": true
   },
   "outputs": [],
   "source": [
    "import agate"
   ]
  },
  {
   "cell_type": "code",
   "execution_count": 2,
   "metadata": {
    "collapsed": true
   },
   "outputs": [],
   "source": [
    "results = agate.Table.from_csv('20121106__or__general.csv')"
   ]
  },
  {
   "cell_type": "code",
   "execution_count": 3,
   "metadata": {
    "collapsed": false
   },
   "outputs": [
    {
     "name": "stdout",
     "output_type": "stream",
     "text": [
      "|---------------+---------------|\n",
      "|  column_names | column_types  |\n",
      "|---------------+---------------|\n",
      "|  county       | Text          |\n",
      "|  office       | Text          |\n",
      "|  district     | Number        |\n",
      "|  party        | Text          |\n",
      "|  candidate    | Text          |\n",
      "|  votes        | Number        |\n",
      "|---------------+---------------|\n",
      "\n"
     ]
    }
   ],
   "source": [
    "print results"
   ]
  },
  {
   "cell_type": "markdown",
   "metadata": {},
   "source": [
    "Next we'll take a look at results by office and party. We'll group by office first, then by party, and add up the votes for each combination of office and party statewide."
   ]
  },
  {
   "cell_type": "code",
   "execution_count": 15,
   "metadata": {
    "collapsed": false
   },
   "outputs": [],
   "source": [
    "offices = results.where(lambda r: r['candidate'] != 'Under Votes' and r['candidate'] != 'Over Votes').group_by('office')"
   ]
  },
  {
   "cell_type": "code",
   "execution_count": 16,
   "metadata": {
    "collapsed": true
   },
   "outputs": [],
   "source": [
    "office_and_party = offices.group_by('party')"
   ]
  },
  {
   "cell_type": "code",
   "execution_count": 17,
   "metadata": {
    "collapsed": true
   },
   "outputs": [],
   "source": [
    "op_totals = office_and_party.aggregate([('vote_total', agate.Sum('votes'))])"
   ]
  },
  {
   "cell_type": "code",
   "execution_count": 18,
   "metadata": {
    "collapsed": true
   },
   "outputs": [],
   "source": [
    "op_totals = op_totals.order_by('vote_total', reverse=True)"
   ]
  },
  {
   "cell_type": "code",
   "execution_count": 19,
   "metadata": {
    "collapsed": false
   },
   "outputs": [
    {
     "name": "stdout",
     "output_type": "stream",
     "text": [
      "|---------------------+-------+-------------|\n",
      "|  office             | party | vote_total  |\n",
      "|---------------------+-------+-------------|\n",
      "|  President          | D     |    970,488  |\n",
      "|  State Treasurer    | D     |    955,213  |\n",
      "|  U.S. House         | D     |    929,511  |\n",
      "|  Attorney General   | D     |    898,770  |\n",
      "|  Secretary of State | D     |    863,656  |\n",
      "|  State House        | D     |    768,193  |\n",
      "|  President          | R     |    754,175  |\n",
      "|  State House        | R     |    741,110  |\n",
      "|  Secretary of State | R     |    727,607  |\n",
      "|  U.S. House         | R     |    669,565  |\n",
      "|  Attorney General   | R     |    620,305  |\n",
      "|  State Treasurer    | R     |    609,989  |\n",
      "|  State Senate       | D     |    421,250  |\n",
      "|  State Senate       | R     |    385,624  |\n",
      "|  Secretary of State | PG    |     44,235  |\n",
      "|  Attorney General   | C     |     44,209  |\n",
      "|  State Treasurer    | P     |     38,762  |\n",
      "|  State Treasurer    | L     |     30,002  |\n",
      "|  Attorney General   | P     |     27,589  |\n",
      "|  Secretary of State | L     |     24,273  |\n",
      "|  ...                | ...   |        ...  |\n",
      "|---------------------+-------+-------------|\n"
     ]
    }
   ],
   "source": [
    "op_totals.print_table()"
   ]
  },
  {
   "cell_type": "markdown",
   "metadata": {},
   "source": [
    "No surprises here: Democrats got more popular votes for every type of office, with Barack Obama leading the way in the presidential race. But that's statewide; are there counties where Obama ran behind other Democrats? We'll group by office, party and county and calculate a vote total."
   ]
  },
  {
   "cell_type": "code",
   "execution_count": 20,
   "metadata": {
    "collapsed": true
   },
   "outputs": [],
   "source": [
    "office_party_county = office_and_party.group_by('county')"
   ]
  },
  {
   "cell_type": "code",
   "execution_count": 21,
   "metadata": {
    "collapsed": true
   },
   "outputs": [],
   "source": [
    "office_party_county_totals = office_party_county.aggregate([('vote_total', agate.Sum('votes'))])"
   ]
  },
  {
   "cell_type": "code",
   "execution_count": 22,
   "metadata": {
    "collapsed": true
   },
   "outputs": [],
   "source": [
    "office_party_county_totals = office_party_county_totals.order_by('vote_total', reverse=True)"
   ]
  },
  {
   "cell_type": "code",
   "execution_count": 23,
   "metadata": {
    "collapsed": false
   },
   "outputs": [
    {
     "name": "stdout",
     "output_type": "stream",
     "text": [
      "|---------------------+-------+------------+-------------|\n",
      "|  office             | party | county     | vote_total  |\n",
      "|---------------------+-------+------------+-------------|\n",
      "|  President          | D     | Multnomah  |    274,887  |\n",
      "|  U.S. House         | D     | Multnomah  |    268,714  |\n",
      "|  State Treasurer    | D     | Multnomah  |    261,764  |\n",
      "|  Attorney General   | D     | Multnomah  |    253,398  |\n",
      "|  State House        | D     | Multnomah  |    240,572  |\n",
      "|  Secretary of State | D     | Multnomah  |    230,643  |\n",
      "|  State Senate       | D     | Multnomah  |    204,330  |\n",
      "|  President          | D     | Washington |    135,291  |\n",
      "|  U.S. House         | D     | Washington |    132,119  |\n",
      "|  State Treasurer    | D     | Washington |    130,584  |\n",
      "|  Attorney General   | D     | Washington |    124,761  |\n",
      "|  State House        | D     | Washington |    120,849  |\n",
      "|  Secretary of State | D     | Washington |    115,639  |\n",
      "|  U.S. House         | D     | Lane       |    113,547  |\n",
      "|  President          | D     | Lane       |    102,652  |\n",
      "|  U.S. House         | D     | Clackamas  |     98,879  |\n",
      "|  State Treasurer    | D     | Clackamas  |     98,039  |\n",
      "|  State Treasurer    | D     | Lane       |     96,010  |\n",
      "|  President          | D     | Clackamas  |     95,493  |\n",
      "|  Secretary of State | R     | Washington |     95,202  |\n",
      "|  ...                | ...   | ...        |        ...  |\n",
      "|---------------------+-------+------------+-------------|\n"
     ]
    }
   ],
   "source": [
    "office_party_county_totals.print_table()"
   ]
  },
  {
   "cell_type": "markdown",
   "metadata": {},
   "source": [
    "Indeed there are. In both Lane and Clackamas counties (at least), total votes for Democrats seeking other offices exceeded the presidential vote. Let's see if we can't find all of them. What we want to do is to find counties where the Democratic vote for President ran behind other offices' Democratic total. First, let's filter on Democratic candidates:"
   ]
  },
  {
   "cell_type": "code",
   "execution_count": 24,
   "metadata": {
    "collapsed": false
   },
   "outputs": [],
   "source": [
    "democratic_office_totals = office_party_county_totals.where(lambda r: r['party'] == 'D')"
   ]
  },
  {
   "cell_type": "markdown",
   "metadata": {},
   "source": [
    "Then we'll create a collection of presidential results:"
   ]
  },
  {
   "cell_type": "code",
   "execution_count": 25,
   "metadata": {
    "collapsed": true
   },
   "outputs": [],
   "source": [
    "president_by_county = democratic_office_totals.where(lambda r: r['office'] == 'President')"
   ]
  },
  {
   "cell_type": "code",
   "execution_count": 26,
   "metadata": {
    "collapsed": false
   },
   "outputs": [
    {
     "name": "stdout",
     "output_type": "stream",
     "text": [
      "(u'office', u'party', u'county', 'vote_total')\n"
     ]
    }
   ],
   "source": [
    "print president_by_county.column_names"
   ]
  },
  {
   "cell_type": "markdown",
   "metadata": {},
   "source": [
    "And then a collection of non-presidential offices and their county vote totals:"
   ]
  },
  {
   "cell_type": "code",
   "execution_count": 27,
   "metadata": {
    "collapsed": false
   },
   "outputs": [],
   "source": [
    "others_by_county = democratic_office_totals.where(lambda r: r['office'] != 'President')"
   ]
  },
  {
   "cell_type": "markdown",
   "metadata": {},
   "source": [
    "Finally, we can find counties where non-presidential offices had higher vote totals than Obama:"
   ]
  },
  {
   "cell_type": "code",
   "execution_count": 28,
   "metadata": {
    "collapsed": false
   },
   "outputs": [],
   "source": [
    "more_than_prez = democratic_office_totals.where(lambda r: r['vote_total'] > [x['vote_total'] for x in president_by_county.rows \n",
    "                                                                           if r['county'] == x['county']][0])"
   ]
  },
  {
   "cell_type": "code",
   "execution_count": 29,
   "metadata": {
    "collapsed": false
   },
   "outputs": [
    {
     "name": "stdout",
     "output_type": "stream",
     "text": [
      "|---------------------+-------+-----------+-------------|\n",
      "|  office             | party | county    | vote_total  |\n",
      "|---------------------+-------+-----------+-------------|\n",
      "|  U.S. House         | D     | Lane      |    113,547  |\n",
      "|  U.S. House         | D     | Clackamas |     98,879  |\n",
      "|  State Treasurer    | D     | Clackamas |     98,039  |\n",
      "|  State Treasurer    | D     | Marion    |     58,948  |\n",
      "|  U.S. House         | D     | Marion    |     58,417  |\n",
      "|  U.S. House         | D     | Benton    |     28,752  |\n",
      "|  U.S. House         | D     | Linn      |     23,747  |\n",
      "|  U.S. House         | D     | Douglas   |     22,954  |\n",
      "|  State Treasurer    | D     | Linn      |     21,347  |\n",
      "|  Attorney General   | D     | Linn      |     20,556  |\n",
      "|  Secretary of State | D     | Linn      |     20,541  |\n",
      "|  State Treasurer    | D     | Yamhill   |     19,989  |\n",
      "|  State Treasurer    | D     | Douglas   |     18,309  |\n",
      "|  Secretary of State | D     | Douglas   |     18,022  |\n",
      "|  Attorney General   | D     | Douglas   |     17,763  |\n",
      "|  State Treasurer    | D     | Polk      |     16,764  |\n",
      "|  U.S. House         | D     | Polk      |     16,539  |\n",
      "|  State Treasurer    | D     | Josephine |     15,333  |\n",
      "|  Attorney General   | D     | Josephine |     15,015  |\n",
      "|  U.S. House         | D     | Coos      |     14,926  |\n",
      "|  State Treasurer    | D     | Coos      |     13,214  |\n",
      "|  Secretary of State | D     | Coos      |     13,004  |\n",
      "|  Attorney General   | D     | Coos      |     12,887  |\n",
      "|  State Treasurer    | D     | Columbia  |     12,342  |\n",
      "|  U.S. House         | D     | Columbia  |     12,239  |\n",
      "|  State House        | D     | Clatsop   |     10,995  |\n",
      "|  U.S. House         | D     | Clatsop   |     10,269  |\n",
      "|  Secretary of State | D     | Umatilla  |      9,214  |\n",
      "|  State Treasurer    | D     | Umatilla  |      9,127  |\n",
      "|  State Treasurer    | D     | Klamath   |      8,899  |\n",
      "|  Attorney General   | D     | Umatilla  |      8,775  |\n",
      "|  Secretary of State | D     | Klamath   |      8,766  |\n",
      "|  Attorney General   | D     | Klamath   |      8,577  |\n",
      "|  State House        | D     | Tillamook |      6,968  |\n",
      "|  U.S. House         | D     | Tillamook |      6,755  |\n",
      "|  State Treasurer    | D     | Tillamook |      6,587  |\n",
      "|  U.S. House         | D     | Curry     |      5,315  |\n",
      "|  State Treasurer    | D     | Wasco     |      5,311  |\n",
      "|  State Treasurer    | D     | Curry     |      4,721  |\n",
      "|  Attorney General   | D     | Curry     |      4,675  |\n",
      "|  Secretary of State | D     | Curry     |      4,635  |\n",
      "|  State Treasurer    | D     | Union     |      4,297  |\n",
      "|  Attorney General   | D     | Union     |      4,150  |\n",
      "|  Secretary of State | D     | Union     |      4,029  |\n",
      "|  State Treasurer    | D     | Crook     |      3,592  |\n",
      "|  State Treasurer    | D     | Jefferson |      3,470  |\n",
      "|  Attorney General   | D     | Crook     |      3,351  |\n",
      "|  Secretary of State | D     | Crook     |      3,146  |\n",
      "|  State Treasurer    | D     | Malheur   |      2,946  |\n",
      "|  Secretary of State | D     | Malheur   |      2,911  |\n",
      "|  ...                | ...   | ...       |        ...  |\n",
      "|---------------------+-------+-----------+-------------|\n"
     ]
    }
   ],
   "source": [
    "more_than_prez.print_table(max_rows=50)"
   ]
  },
  {
   "cell_type": "markdown",
   "metadata": {},
   "source": [
    "Many of these counties are have small populations and are not prime political ground for a Democratic president. But Ted Wheeler, the Democratic state treasurer, out-performed an incumbent president of the same party in at least 18 counties in the state, including Clackamas and Marion. Other offices did the same, particularly in more rural areas."
   ]
  },
  {
   "cell_type": "markdown",
   "metadata": {},
   "source": [
    "The next question: is that typical for Oregon? For other states?"
   ]
  }
 ],
 "metadata": {
  "kernelspec": {
   "display_name": "Python 2",
   "language": "python",
   "name": "python2"
  },
  "language_info": {
   "codemirror_mode": {
    "name": "ipython",
    "version": 2
   },
   "file_extension": ".py",
   "mimetype": "text/x-python",
   "name": "python",
   "nbconvert_exporter": "python",
   "pygments_lexer": "ipython2",
   "version": "2.7.10"
  }
 },
 "nbformat": 4,
 "nbformat_minor": 0
}
