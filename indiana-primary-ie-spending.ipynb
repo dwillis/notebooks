{
 "cells": [
  {
   "cell_type": "code",
   "execution_count": 1,
   "metadata": {
    "collapsed": true
   },
   "outputs": [],
   "source": [
    "import agate"
   ]
  },
  {
   "cell_type": "markdown",
   "metadata": {},
   "source": [
    "After importing agate, I downloaded the [CSV file of independent expenditures](https://projects.propublica.org/itemizer/independent_expenditures/2016/president/in) in the presidential race in Indiana from FEC Itemizer."
   ]
  },
  {
   "cell_type": "code",
   "execution_count": 2,
   "metadata": {
    "collapsed": true
   },
   "outputs": [],
   "source": [
    "ies = agate.Table.from_csv('in.csv')"
   ]
  },
  {
   "cell_type": "code",
   "execution_count": 3,
   "metadata": {
    "collapsed": false
   },
   "outputs": [
    {
     "name": "stdout",
     "output_type": "stream",
     "text": [
      "|-------------------+---------------|\n",
      "|  column_names     | column_types  |\n",
      "|-------------------+---------------|\n",
      "|  linenumber       | Text          |\n",
      "|  fec_committee_id | Text          |\n",
      "|  fec_candidate_id | Text          |\n",
      "|  candidate_name   | Text          |\n",
      "|  party            | Text          |\n",
      "|  office_name      | Text          |\n",
      "|  office_state     | Text          |\n",
      "|  district         | Boolean       |\n",
      "|  position         | Text          |\n",
      "|  transaction_id   | Text          |\n",
      "|  payee            | Text          |\n",
      "|  street_1         | Text          |\n",
      "|  street_2         | Text          |\n",
      "|  city             | Text          |\n",
      "|  state            | Text          |\n",
      "|  zip_code         | Number        |\n",
      "|  date             | Date          |\n",
      "|  amount           | Number        |\n",
      "|  purpose          | Text          |\n",
      "|  cycle            | Number        |\n",
      "|-------------------+---------------|\n",
      "\n"
     ]
    }
   ],
   "source": [
    "print ies"
   ]
  },
  {
   "cell_type": "markdown",
   "metadata": {},
   "source": [
    "First, we'll look at spending by reported purpose. We'll group by each unique purpose description and sum the amount for each purpose, then sort the totals in descending order and print them out. The result is a huge emphasis on broadcast media spending, with smaller amounts for direct mail, digital ads and voter contact."
   ]
  },
  {
   "cell_type": "code",
   "execution_count": 4,
   "metadata": {
    "collapsed": true
   },
   "outputs": [],
   "source": [
    "purposes = ies.group_by('purpose')"
   ]
  },
  {
   "cell_type": "code",
   "execution_count": 5,
   "metadata": {
    "collapsed": true
   },
   "outputs": [],
   "source": [
    "purpose_totals = purposes.aggregate([('purpose_total', agate.Sum('amount'))])"
   ]
  },
  {
   "cell_type": "code",
   "execution_count": 6,
   "metadata": {
    "collapsed": true
   },
   "outputs": [],
   "source": [
    "purpose_totals = purpose_totals.order_by('purpose_total', reverse=True)"
   ]
  },
  {
   "cell_type": "code",
   "execution_count": 8,
   "metadata": {
    "collapsed": false
   },
   "outputs": [
    {
     "name": "stdout",
     "output_type": "stream",
     "text": [
      "|-----------------------------------------------------+----------------|\n",
      "|  purpose                                            | purpose_total  |\n",
      "|-----------------------------------------------------+----------------|\n",
      "|  Media Buy                                          |  1,614,516.00  |\n",
      "|  tv ad air buy, production costs                    |  1,448,000.00  |\n",
      "|  Media placement                                    |  1,324,919.82  |\n",
      "|  Direct mail services                               |    377,117.69  |\n",
      "|  On-Line Media Buy                                  |    275,000.00  |\n",
      "|  digital ad placement, production costs             |    200,000.00  |\n",
      "|  Voter contact-telephone calls                      |    198,772.80  |\n",
      "|  Door-to-Door; Telephone Calls and other GOTV ef... |    158,000.00  |\n",
      "|  Media - TV advertisement placement.                |    135,000.00  |\n",
      "|  Radio Buy and Production                           |    130,475.00  |\n",
      "|  Media - Digital advertisement placement.           |    125,000.00  |\n",
      "|  online advertising                                 |     90,000.00  |\n",
      "|  PAC Voter ID Program                               |     75,930.11  |\n",
      "|  Online advertising                                 |     66,000.00  |\n",
      "|  Radio Buy                                          |     52,859.96  |\n",
      "|  Media production & placement -- estimated expense  |     50,000.00  |\n",
      "|  On-Line Media Advertising                          |     50,000.00  |\n",
      "|  Media Production                                   |     46,500.00  |\n",
      "|  Media production                                   |     40,706.98  |\n",
      "|  Research                                           |     34,260.00  |\n",
      "|  VOTER CONTACT CALLS                                |     25,240.97  |\n",
      "|  Voter contact-emails                               |     19,779.04  |\n",
      "|  VOTER CONTACT MAIL                                 |     18,695.80  |\n",
      "|  PAC Radio Advertising                              |     15,843.70  |\n",
      "|  MEDIA                                              |     13,102.08  |\n",
      "|  tv ad production costs (added to air buy report... |     12,000.00  |\n",
      "|  Email Marketing                                    |     11,032.08  |\n",
      "|  ADVERTISING - ONLINE                               |      8,930.71  |\n",
      "|  VOTER CONTACT OVER SEVERAL WEEKS                   |      8,279.67  |\n",
      "|  Digital Media Production/Placement                 |      8,000.00  |\n",
      "|  VOTER CONTACT CALLS OVER SEVERAL WEEKS             |      6,209.75  |\n",
      "|  Social Media Buy                                   |      5,000.00  |\n",
      "|  Advertising - Radio                                |      2,950.00  |\n",
      "|  Digital Ad Buy (Estimate)                          |      2,500.00  |\n",
      "|  Television advertising                             |      2,315.47  |\n",
      "|  VOTER CONTACT                                      |      1,899.58  |\n",
      "|  Online ads                                         |      1,500.00  |\n",
      "|  press release distribution                         |        791.00  |\n",
      "|  WEB AD PLACEMENT                                   |        760.00  |\n",
      "|  Printing                                           |        704.04  |\n",
      "|  internet communications (from advance line 21)     |        612.96  |\n",
      "|  Donation Processing                                |        469.72  |\n",
      "|  VOTER CONTACT CALLS OVER NEXT SEVERAL WEEKS        |        413.98  |\n",
      "|  online advertising-nationally disseminated         |        322.58  |\n",
      "|  press release (from advance line 21)               |        285.57  |\n",
      "|  tv ad production costs (added to air buy report... |        275.91  |\n",
      "|  advertising                                        |        250.00  |\n",
      "|  tv ad production costs (from advance line 21)      |        243.28  |\n",
      "|  digital ad production costs (from advance line 21) |        173.12  |\n",
      "|  T-shirts                                           |        164.17  |\n",
      "|  digital ad production costs                        |        125.00  |\n",
      "|  Online Advertising Production                      |         88.24  |\n",
      "|  internet communications                            |         62.50  |\n",
      "|  internet communication (from advance line 21)      |         48.85  |\n",
      "|  ONLINE ADVERTISING                                 |         40.00  |\n",
      "|  Online Advertising Buy                             |         19.61  |\n",
      "|-----------------------------------------------------+----------------|\n"
     ]
    }
   ],
   "source": [
    "purpose_totals.print_table(max_column_width=50, max_rows=100)"
   ]
  },
  {
   "cell_type": "markdown",
   "metadata": {},
   "source": [
    "Next, we'll look at the top-spending committees, designated by their FEC IDs. Using the same approach as above, we group by the committee id and add up the amounts. The result is that 3 super PACs account for the bulk of the spending, just as [FEC Itemizer]"
   ]
  },
  {
   "cell_type": "code",
   "execution_count": 9,
   "metadata": {
    "collapsed": true
   },
   "outputs": [],
   "source": [
    "spenders = ies.group_by('fec_committee_id')"
   ]
  },
  {
   "cell_type": "code",
   "execution_count": 10,
   "metadata": {
    "collapsed": true
   },
   "outputs": [],
   "source": [
    "spender_totals = spenders.aggregate([('spender_total', agate.Sum('amount'))])"
   ]
  },
  {
   "cell_type": "code",
   "execution_count": 11,
   "metadata": {
    "collapsed": true
   },
   "outputs": [],
   "source": [
    "spender_totals = spender_totals.order_by('spender_total', reverse=True)"
   ]
  },
  {
   "cell_type": "code",
   "execution_count": 14,
   "metadata": {
    "collapsed": false
   },
   "outputs": [
    {
     "name": "stdout",
     "output_type": "stream",
     "text": [
      "|-------------------+----------------|\n",
      "|  fec_committee_id | spender_total  |\n",
      "|-------------------+----------------|\n",
      "|  C00609511        |  2,333,055.00  |\n",
      "|  C00603621        |  2,060,053.89  |\n",
      "|  C00487470        |  1,662,618.19  |\n",
      "|  C90011677        |    260,000.00  |\n",
      "|  C00575415        |     99,773.81  |\n",
      "|  C00610907        |     90,572.58  |\n",
      "|  C90014176        |     50,000.00  |\n",
      "|  C00566174        |     40,262.00  |\n",
      "|  C00401786        |     17,751.61  |\n",
      "|  C00575373        |     13,102.08  |\n",
      "|  C00570739        |     11,501.80  |\n",
      "|  C00573154        |      8,930.71  |\n",
      "|  C00594176        |      2,950.00  |\n",
      "|  C00495861        |      2,500.00  |\n",
      "|  C00573733        |      2,315.47  |\n",
      "|  C00574533        |      1,502.44  |\n",
      "|  C90011800        |      1,500.00  |\n",
      "|  C00524454        |      1,367.97  |\n",
      "|  C00553560        |        944.19  |\n",
      "|  C00576108        |        800.00  |\n",
      "|  C00491290        |        413.98  |\n",
      "|  C00004036        |        164.17  |\n",
      "|  C90013244        |        107.85  |\n",
      "|-------------------+----------------|\n"
     ]
    }
   ],
   "source": [
    "spender_totals.print_table(max_column_width=50, max_rows=25)"
   ]
  },
  {
   "cell_type": "code",
   "execution_count": null,
   "metadata": {
    "collapsed": true
   },
   "outputs": [],
   "source": []
  }
 ],
 "metadata": {
  "kernelspec": {
   "display_name": "Python 2",
   "language": "python",
   "name": "python2"
  },
  "language_info": {
   "codemirror_mode": {
    "name": "ipython",
    "version": 2
   },
   "file_extension": ".py",
   "mimetype": "text/x-python",
   "name": "python",
   "nbconvert_exporter": "python",
   "pygments_lexer": "ipython2",
   "version": "2.7.10"
  }
 },
 "nbformat": 4,
 "nbformat_minor": 0
}
