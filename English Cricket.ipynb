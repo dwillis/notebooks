{
 "cells": [
  {
   "cell_type": "markdown",
   "metadata": {},
   "source": [
    "## Analysis of First Innings Scoring in Early Season English County Championship Matches"
   ]
  },
  {
   "cell_type": "code",
   "execution_count": 1,
   "metadata": {
    "collapsed": true
   },
   "outputs": [],
   "source": [
    "import agate"
   ]
  },
  {
   "cell_type": "code",
   "execution_count": 2,
   "metadata": {
    "collapsed": true
   },
   "outputs": [],
   "source": [
    "matches = agate.Table.from_csv('english_county_championship_innings.csv')"
   ]
  },
  {
   "cell_type": "code",
   "execution_count": 3,
   "metadata": {
    "collapsed": false
   },
   "outputs": [
    {
     "name": "stdout",
     "output_type": "stream",
     "text": [
      "|-----------------------------+---------------|\n",
      "|  column_names               | column_types  |\n",
      "|-----------------------------+---------------|\n",
      "|  team1                      | Text          |\n",
      "|  team1_id                   | Number        |\n",
      "|  team2                      | Text          |\n",
      "|  team2_id                   | Number        |\n",
      "|  win_toss                   | Number        |\n",
      "|  bat_or_bowl                | Text          |\n",
      "|  outcome                    | Text          |\n",
      "|  win_game                   | Number        |\n",
      "|  month                      | Number        |\n",
      "|  year                       | Number        |\n",
      "|  start_date                 | Date          |\n",
      "|  end_date                   | Date          |\n",
      "|  day/night                  | Text          |\n",
      "|  country                    | Text          |\n",
      "|  ground                     | Text          |\n",
      "|  match_id                   | Number        |\n",
      "|  type_of_match              | Text          |\n",
      "|  match_type_id              | Number        |\n",
      "|  home_team_id               | Number        |\n",
      "|  first_innings_runs         | Number        |\n",
      "|  first_innings_batting_team | Text          |\n",
      "|  url                        | Text          |\n",
      "|-----------------------------+---------------|\n",
      "\n"
     ]
    }
   ],
   "source": [
    "print matches"
   ]
  },
  {
   "cell_type": "code",
   "execution_count": 21,
   "metadata": {
    "collapsed": false
   },
   "outputs": [],
   "source": [
    "grounds = matches.where(lambda row: row['month'] == 4 or row['month'] == 5).where(lambda row: row['year'] > 2010).group_by('ground')"
   ]
  },
  {
   "cell_type": "code",
   "execution_count": 22,
   "metadata": {
    "collapsed": false
   },
   "outputs": [],
   "source": [
    "ground_avg = grounds.aggregate([('first_innings_avg', agate.Mean('first_innings_runs'))])"
   ]
  },
  {
   "cell_type": "code",
   "execution_count": 23,
   "metadata": {
    "collapsed": true
   },
   "outputs": [],
   "source": [
    "ground_avg = ground_avg.order_by('first_innings_avg', reverse=True)"
   ]
  },
  {
   "cell_type": "code",
   "execution_count": 24,
   "metadata": {
    "collapsed": false
   },
   "outputs": [
    {
     "name": "stdout",
     "output_type": "stream",
     "text": [
      "|----------------------------------------+--------------------------------|\n",
      "|  ground                                |             first_innings_avg  |\n",
      "|----------------------------------------+--------------------------------|\n",
      "|  Whitgift School, Croydon              | 548.0000000000000000000000000  |\n",
      "|  North Marine Road Ground, Scarborough | 447.0000000000000000000000000  |\n",
      "|  County Ground, Taunton                | 389.0625000000000000000000000  |\n",
      "|  Headingley, Leeds                     | 374.3750000000000000000000000  |\n",
      "|  Trafalgar Road Ground, Southport      | 370.0000000000000000000000000  |\n",
      "|  Grace Road, Leicester                 | 356.4000000000000000000000000  |\n",
      "|  The Rose Bowl, Southampton            | 343.2000000000000000000000000  |\n",
      "|  County Ground, Hove                   | 338.8823529411764705882352941  |\n",
      "|  Kennington Oval, London               | 327.7777777777777777777777778  |\n",
      "|  Trent Bridge, Nottingham              | 312.5000000000000000000000000  |\n",
      "|  Edgbaston, Birmingham                 | 310.7058823529411764705882353  |\n",
      "|  Riverside Ground, Chester-le-Street   | 306.2500000000000000000000000  |\n",
      "|  County Ground, Northampton            | 301.8947368421052631578947368  |\n",
      "|  Lord's, London                        | 301.2500000000000000000000000  |\n",
      "|  Nevill Ground, Tunbridge Wells        | 301.0000000000000000000000000  |\n",
      "|  St Lawrence Ground, Canterbury        | 296.0000000000000000000000000  |\n",
      "|  County Ground, New Road, Worcester    | 295.4444444444444444444444444  |\n",
      "|  County Ground, Bristol                | 293.8000000000000000000000000  |\n",
      "|  County Ground, Derby                  | 288.5555555555555555555555556  |\n",
      "|  Old Trafford, Manchester              | 288.0000000000000000000000000  |\n",
      "|  ...                                   |                           ...  |\n",
      "|----------------------------------------+--------------------------------|\n"
     ]
    }
   ],
   "source": [
    "ground_avg.print_table(max_column_width=50)"
   ]
  },
  {
   "cell_type": "code",
   "execution_count": 25,
   "metadata": {
    "collapsed": true
   },
   "outputs": [],
   "source": [
    "prior_years = matches.where(lambda row: row['month'] == 4 or row['month'] == 5).where(lambda row: row['year'] < 2011 and row['year'] > 2005).group_by('ground')"
   ]
  },
  {
   "cell_type": "code",
   "execution_count": 38,
   "metadata": {
    "collapsed": false
   },
   "outputs": [],
   "source": [
    "prior_avg = prior_years.aggregate([('first_innings_avg', agate.Mean('first_innings_runs')), ('matches', agate.Count())])"
   ]
  },
  {
   "cell_type": "code",
   "execution_count": 39,
   "metadata": {
    "collapsed": false
   },
   "outputs": [],
   "source": [
    "prior_avg = prior_avg.order_by('first_innings_avg', reverse=True)"
   ]
  },
  {
   "cell_type": "code",
   "execution_count": 46,
   "metadata": {
    "collapsed": false
   },
   "outputs": [],
   "source": [
    "prior_avg = prior_avg.where(lambda row: row['matches'] > 5)"
   ]
  },
  {
   "cell_type": "code",
   "execution_count": 47,
   "metadata": {
    "collapsed": false
   },
   "outputs": [
    {
     "name": "stdout",
     "output_type": "stream",
     "text": [
      "|--------------------------------------+-------------------------------+----------|\n",
      "|  ground                              |             first_innings_avg | matches  |\n",
      "|--------------------------------------+-------------------------------+----------|\n",
      "|  County Ground, Taunton              | 438.9166666666666666666666667 |      12  |\n",
      "|  Kennington Oval, London             | 422.9230769230769230769230769 |      13  |\n",
      "|  Headingley, Leeds                   | 390.3333333333333333333333333 |      12  |\n",
      "|  Grace Road, Leicester               | 388.4166666666666666666666667 |      12  |\n",
      "|  Sophia Gardens, Cardiff             | 374.0000000000000000000000000 |       8  |\n",
      "|  County Ground, Chelmsford           | 367.4615384615384615384615385 |      13  |\n",
      "|  Edgbaston, Birmingham               | 353.1333333333333333333333333 |      15  |\n",
      "|  County Ground, New Road, Worcester  | 337.8571428571428571428571429 |      14  |\n",
      "|  St Lawrence Ground, Canterbury      | 331.4000000000000000000000000 |      10  |\n",
      "|  Riverside Ground, Chester-le-Street | 329.1818181818181818181818182 |      11  |\n",
      "|  County Ground, Northampton          | 313.9230769230769230769230769 |      13  |\n",
      "|  Trent Bridge, Nottingham            | 310.3529411764705882352941176 |      17  |\n",
      "|  County Ground, Hove                 | 305.5714285714285714285714286 |      14  |\n",
      "|  Lord's, London                      | 299.7000000000000000000000000 |      10  |\n",
      "|  The Rose Bowl, Southampton          | 295.0769230769230769230769231 |      13  |\n",
      "|  County Ground, Bristol              | 279.7500000000000000000000000 |      12  |\n",
      "|  County Ground, Derby                | 258.0000000000000000000000000 |       9  |\n",
      "|  Old Trafford, Manchester            | 246.7500000000000000000000000 |      12  |\n",
      "|--------------------------------------+-------------------------------+----------|\n"
     ]
    }
   ],
   "source": [
    "prior_avg.print_table(max_column_width=50)"
   ]
  },
  {
   "cell_type": "code",
   "execution_count": null,
   "metadata": {
    "collapsed": true
   },
   "outputs": [],
   "source": []
  }
 ],
 "metadata": {
  "kernelspec": {
   "display_name": "Python 2",
   "language": "python",
   "name": "python2"
  },
  "language_info": {
   "codemirror_mode": {
    "name": "ipython",
    "version": 2
   },
   "file_extension": ".py",
   "mimetype": "text/x-python",
   "name": "python",
   "nbconvert_exporter": "python",
   "pygments_lexer": "ipython2",
   "version": "2.7.10"
  }
 },
 "nbformat": 4,
 "nbformat_minor": 0
}
