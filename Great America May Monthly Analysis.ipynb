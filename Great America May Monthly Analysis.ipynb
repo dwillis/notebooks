{
 "cells": [
  {
   "cell_type": "markdown",
   "metadata": {},
   "source": [
    "## Great America PAC May Monthly FEC Filing"
   ]
  },
  {
   "cell_type": "markdown",
   "metadata": {},
   "source": [
    "Great America PAC, a super PAC backing Donald Trump for President, filed its [latest report](http://docquery.fec.gov/cgi-bin/forms/C00608489/1073787/) with the Federal Election Commission on May 20. Here are some details from it, thanks to [agate](https://agate.readthedocs.io/en/1.3.1/)."
   ]
  },
  {
   "cell_type": "code",
   "execution_count": 1,
   "metadata": {
    "collapsed": true
   },
   "outputs": [],
   "source": [
    "import agate"
   ]
  },
  {
   "cell_type": "code",
   "execution_count": 2,
   "metadata": {
    "collapsed": true
   },
   "outputs": [],
   "source": [
    "contributions = agate.Table.from_csv('great_america_sa.csv')"
   ]
  },
  {
   "cell_type": "code",
   "execution_count": 3,
   "metadata": {
    "collapsed": false
   },
   "outputs": [
    {
     "name": "stdout",
     "output_type": "stream",
     "text": [
      "|--------------------+---------------|\n",
      "|  column_names      | column_types  |\n",
      "|--------------------+---------------|\n",
      "|  linenumber        | Text          |\n",
      "|  fec_committee_id  | Text          |\n",
      "|  transaction_id    | Text          |\n",
      "|  entity_type       | Text          |\n",
      "|  organization_name | Boolean       |\n",
      "|  last_name         | Text          |\n",
      "|  first_name        | Text          |\n",
      "|  middle_name       | Boolean       |\n",
      "|  prefix            | Text          |\n",
      "|  suffix            | Boolean       |\n",
      "|  street_1          | Text          |\n",
      "|  street_2          | Text          |\n",
      "|  city              | Text          |\n",
      "|  state             | Text          |\n",
      "|  zip_code          | Number        |\n",
      "|  election_code     | Boolean       |\n",
      "|  date              | Date          |\n",
      "|  amount            | Number        |\n",
      "|  aggregate_amount  | Number        |\n",
      "|  employer          | Text          |\n",
      "|  occupation        | Text          |\n",
      "|  memo_code         | Boolean       |\n",
      "|  memo_text         | Text          |\n",
      "|  cycle             | Number        |\n",
      "|--------------------+---------------|\n",
      "\n"
     ]
    }
   ],
   "source": [
    "print contributions"
   ]
  },
  {
   "cell_type": "markdown",
   "metadata": {},
   "source": [
    "Let's find the largest contribution and who gave it:"
   ]
  },
  {
   "cell_type": "code",
   "execution_count": 5,
   "metadata": {
    "collapsed": false
   },
   "outputs": [
    {
     "name": "stdout",
     "output_type": "stream",
     "text": [
      "50000.0\n"
     ]
    }
   ],
   "source": [
    "print contributions.aggregate(agate.Max('amount'))"
   ]
  },
  {
   "cell_type": "code",
   "execution_count": 7,
   "metadata": {
    "collapsed": false
   },
   "outputs": [],
   "source": [
    "top_donor = contributions.where(lambda row: row['amount'] == 50000.0)"
   ]
  },
  {
   "cell_type": "code",
   "execution_count": 13,
   "metadata": {
    "collapsed": false
   },
   "outputs": [
    {
     "name": "stdout",
     "output_type": "stream",
     "text": [
      "BEACH, ERIC - COSTA MESA, CA\n"
     ]
    }
   ],
   "source": [
    "print top_donor.rows[0]['last_name'] +', '+ top_donor.rows[0]['first_name'] + ' - ' + top_donor.rows[0]['city'] + ', ' + top_donor.rows[0]['state'] "
   ]
  },
  {
   "cell_type": "markdown",
   "metadata": {},
   "source": [
    "How about the total number of itemized contributions - those that total at least $200 in aggregate from a donor:"
   ]
  },
  {
   "cell_type": "code",
   "execution_count": 15,
   "metadata": {
    "collapsed": false
   },
   "outputs": [
    {
     "name": "stdout",
     "output_type": "stream",
     "text": [
      "125\n"
     ]
    }
   ],
   "source": [
    "print contributions.aggregate(agate.Count('transaction_id'))"
   ]
  },
  {
   "cell_type": "markdown",
   "metadata": {},
   "source": [
    "Average itemized contribution: "
   ]
  },
  {
   "cell_type": "code",
   "execution_count": 16,
   "metadata": {
    "collapsed": false
   },
   "outputs": [
    {
     "name": "stdout",
     "output_type": "stream",
     "text": [
      "300.0\n"
     ]
    }
   ],
   "source": [
    "print contributions.aggregate(agate.Median('amount'))"
   ]
  },
  {
   "cell_type": "markdown",
   "metadata": {},
   "source": [
    "One thing I noticed from browsing the [contributions](https://projects.propublica.org/itemizer/filing/1073787/schedule/sa) was the number of records that had no employer and occupation information, as required by law. These are indicated by the campaign listing \"Information Requested Per Best Efforts\" in the data. Let's look at those - how many are there?"
   ]
  },
  {
   "cell_type": "code",
   "execution_count": 17,
   "metadata": {
    "collapsed": true
   },
   "outputs": [],
   "source": [
    "no_emp_occ = contributions.where(lambda row: row['employer'] == 'INFORMATION REQUESTED PER BEST EFFORTS')"
   ]
  },
  {
   "cell_type": "code",
   "execution_count": 18,
   "metadata": {
    "collapsed": false
   },
   "outputs": [
    {
     "name": "stdout",
     "output_type": "stream",
     "text": [
      "90\n"
     ]
    }
   ],
   "source": [
    "print no_emp_occ.aggregate(agate.Count('transaction_id'))"
   ]
  },
  {
   "cell_type": "markdown",
   "metadata": {},
   "source": [
    "So 90 of the 125 itemized contributions in this filing contain no employer or occupation information about the donors. In percentage terms, that's: "
   ]
  },
  {
   "cell_type": "code",
   "execution_count": 1,
   "metadata": {
    "collapsed": false
   },
   "outputs": [
    {
     "name": "stdout",
     "output_type": "stream",
     "text": [
      "72.0\n"
     ]
    }
   ],
   "source": [
    "print (90.0/125.0)*100"
   ]
  },
  {
   "cell_type": "code",
   "execution_count": null,
   "metadata": {
    "collapsed": true
   },
   "outputs": [],
   "source": []
  }
 ],
 "metadata": {
  "kernelspec": {
   "display_name": "Python 2",
   "language": "python",
   "name": "python2"
  },
  "language_info": {
   "codemirror_mode": {
    "name": "ipython",
    "version": 2
   },
   "file_extension": ".py",
   "mimetype": "text/x-python",
   "name": "python",
   "nbconvert_exporter": "python",
   "pygments_lexer": "ipython2",
   "version": "2.7.10"
  }
 },
 "nbformat": 4,
 "nbformat_minor": 0
}
