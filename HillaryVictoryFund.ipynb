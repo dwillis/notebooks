{
 "cells": [
  {
   "cell_type": "markdown",
   "metadata": {},
   "source": [
    "# Simple Analysis of Campaign Filing Data with Agate"
   ]
  },
  {
   "cell_type": "code",
   "execution_count": 1,
   "metadata": {
    "collapsed": true
   },
   "outputs": [],
   "source": [
    "import agate"
   ]
  },
  {
   "cell_type": "markdown",
   "metadata": {},
   "source": [
    "After importing agate, I downloaded the [April Quarterly expenditures](https://projects.propublica.org/itemizer/filing/1064088/schedule/sb) from Hillary Victory Fund and saved them locally as sb.csv."
   ]
  },
  {
   "cell_type": "code",
   "execution_count": 2,
   "metadata": {
    "collapsed": true
   },
   "outputs": [],
   "source": [
    "skedb = agate.Table.from_csv('sb.csv')"
   ]
  },
  {
   "cell_type": "code",
   "execution_count": 3,
   "metadata": {
    "collapsed": false
   },
   "outputs": [
    {
     "name": "stdout",
     "output_type": "stream",
     "text": [
      "|--------------------+---------------|\n",
      "|  column_names      | column_types  |\n",
      "|--------------------+---------------|\n",
      "|  linenumber        | Text          |\n",
      "|  fec_committee_id  | Text          |\n",
      "|  transaction_id    | Text          |\n",
      "|  entity_type       | Text          |\n",
      "|  organization_name | Text          |\n",
      "|  last_name         | Text          |\n",
      "|  first_name        | Text          |\n",
      "|  middle_name       | Text          |\n",
      "|  prefix            | Text          |\n",
      "|  suffix            | Boolean       |\n",
      "|  street_1          | Text          |\n",
      "|  street_2          | Text          |\n",
      "|  city              | Text          |\n",
      "|  state             | Text          |\n",
      "|  zip_code          | Number        |\n",
      "|  election_code     | Boolean       |\n",
      "|  date              | Date          |\n",
      "|  amount            | Number        |\n",
      "|  purpose           | Text          |\n",
      "|  memo_code         | Text          |\n",
      "|  memo_text         | Text          |\n",
      "|  cycle             | Number        |\n",
      "|--------------------+---------------|\n",
      "\n"
     ]
    }
   ],
   "source": [
    "print skedb"
   ]
  },
  {
   "cell_type": "code",
   "execution_count": 4,
   "metadata": {
    "collapsed": true
   },
   "outputs": [],
   "source": [
    "recipients = skedb.group_by('organization_name')"
   ]
  },
  {
   "cell_type": "code",
   "execution_count": 5,
   "metadata": {
    "collapsed": true
   },
   "outputs": [],
   "source": [
    "recipient_totals = recipients.aggregate([('recip_total', agate.Sum('amount'))])"
   ]
  },
  {
   "cell_type": "code",
   "execution_count": 6,
   "metadata": {
    "collapsed": true
   },
   "outputs": [],
   "source": [
    "recipient_total = recipient_totals.order_by('recip_total', reverse=True)"
   ]
  },
  {
   "cell_type": "code",
   "execution_count": 10,
   "metadata": {
    "collapsed": false
   },
   "outputs": [
    {
     "name": "stdout",
     "output_type": "stream",
     "text": [
      "|-----------------------------------------------------+----------------|\n",
      "|  organization_name                                  |   recip_total  |\n",
      "|-----------------------------------------------------+----------------|\n",
      "|  Hillary for America                                | 10,547,756.94  |\n",
      "|  Bully Pulpit Interactive LLC                       |  6,744,638.00  |\n",
      "|  Chapman Cubine Adams + Hussey                      |  5,447,274.27  |\n",
      "|  DNC Services Corporation/Democratic National Co... |  3,500,000.00  |\n",
      "|  Madison Square Garden                              |    644,695.56  |\n",
      "|  Financial Innovations                              |    429,996.89  |\n",
      "|  Democratic Party of Wisconsin                      |    219,778.19  |\n",
      "|  Stripe                                             |    159,128.23  |\n",
      "|  Vertex Inc.                                        |    152,288.91  |\n",
      "|  Minnesota Democratic-Farmer-Labor Party            |    150,000.00  |\n",
      "|  Oklahoma Democratic Party                          |    140,000.00  |\n",
      "|  Postmaster                                         |    130,000.00  |\n",
      "|  New Hampshire Democratic Party                     |    130,000.00  |\n",
      "|  Merkle                                             |    120,012.45  |\n",
      "|                                                     |    116,280.84  |\n",
      "|  Democratic Party of Virginia                       |    115,000.00  |\n",
      "|  Nevada State Democratic Party                      |    106,000.00  |\n",
      "|  Colorado Democratic Party                          |     82,000.00  |\n",
      "|  Ohio Democratic Party                              |     80,000.00  |\n",
      "|  Democratic State Central Committee of LA           |     80,000.00  |\n",
      "|  ...                                                |           ...  |\n",
      "|-----------------------------------------------------+----------------|\n"
     ]
    }
   ],
   "source": [
    "recipient_total.print_table(max_column_width=50)"
   ]
  },
  {
   "cell_type": "code",
   "execution_count": 11,
   "metadata": {
    "collapsed": true
   },
   "outputs": [],
   "source": [
    "purposes = skedb.group_by('purpose')"
   ]
  },
  {
   "cell_type": "code",
   "execution_count": 12,
   "metadata": {
    "collapsed": true
   },
   "outputs": [],
   "source": [
    "purpose_totals = purposes.aggregate([('purpose_total', agate.Sum('amount'))])"
   ]
  },
  {
   "cell_type": "code",
   "execution_count": 13,
   "metadata": {
    "collapsed": true
   },
   "outputs": [],
   "source": [
    "purpose_totals = purpose_totals.order_by('purpose_total', reverse=True)"
   ]
  },
  {
   "cell_type": "code",
   "execution_count": 14,
   "metadata": {
    "collapsed": false
   },
   "outputs": [
    {
     "name": "stdout",
     "output_type": "stream",
     "text": [
      "|----------------------------------+----------------|\n",
      "|  purpose                         | purpose_total  |\n",
      "|----------------------------------+----------------|\n",
      "|  Transfer to Affiliate           | 14,925,778.19  |\n",
      "|  Online Advertising              |  6,711,638.00  |\n",
      "|  Direct Marketing                |  5,470,901.87  |\n",
      "|  Salary and Overhead Expenses    |  1,097,756.94  |\n",
      "|  Merchandise Fulfillment         |    444,716.39  |\n",
      "|  Revenue Processing Fees         |    369,862.08  |\n",
      "|  Event Production                |    350,979.28  |\n",
      "|  Return of Revenue Fees          |    326,768.10  |\n",
      "|  Contribution Refund             |    177,282.93  |\n",
      "|  Tax Processing and Registration |    152,288.91  |\n",
      "|  Postage                         |    130,000.00  |\n",
      "|  Venue                           |     77,342.40  |\n",
      "|  Catering, Food & Beverages      |     74,329.72  |\n",
      "|  Travel                          |     56,861.42  |\n",
      "|  Database Services               |     37,152.50  |\n",
      "|  Digital Consulting              |     33,000.00  |\n",
      "|  Technology Services             |     30,150.00  |\n",
      "|  Audio Visual Services           |     19,843.75  |\n",
      "|  Printing                        |     16,720.51  |\n",
      "|  Bank Fees                       |      7,660.17  |\n",
      "|  ...                             |           ...  |\n",
      "|----------------------------------+----------------|\n"
     ]
    }
   ],
   "source": [
    "purpose_totals.print_table(max_column_width=50)"
   ]
  },
  {
   "cell_type": "code",
   "execution_count": null,
   "metadata": {
    "collapsed": true
   },
   "outputs": [],
   "source": []
  }
 ],
 "metadata": {
  "kernelspec": {
   "display_name": "Python 2",
   "language": "python",
   "name": "python2"
  },
  "language_info": {
   "codemirror_mode": {
    "name": "ipython",
    "version": 2
   },
   "file_extension": ".py",
   "mimetype": "text/x-python",
   "name": "python",
   "nbconvert_exporter": "python",
   "pygments_lexer": "ipython2",
   "version": "2.7.10"
  }
 },
 "nbformat": 4,
 "nbformat_minor": 0
}
